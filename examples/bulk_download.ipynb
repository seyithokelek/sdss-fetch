{
 "cells": [
  {
   "cell_type": "markdown",
   "metadata": {},
   "source": [
    "# Example\n",
    "An example for bulk download"
   ]
  },
  {
   "cell_type": "code",
   "execution_count": null,
   "metadata": {
    "execution": {
     "iopub.execute_input": "2025-05-02T03:57:18.944178Z",
     "iopub.status.busy": "2025-05-02T03:57:18.943931Z",
     "iopub.status.idle": "2025-05-02T03:57:18.947159Z",
     "shell.execute_reply": "2025-05-02T03:57:18.946609Z",
     "shell.execute_reply.started": "2025-05-02T03:57:18.944153Z"
    }
   },
   "outputs": [],
   "source": [
    "import sys\n",
    "import os\n",
    "project_root = os.path.abspath(\"..\") \n",
    "sys.path.insert(0, project_root)\n",
    "\n",
    "import numpy as np\n",
    "from sdss_fetch import (\n",
    "    SDSSParallelDownloader\n",
    ")"
   ]
  },
  {
   "cell_type": "code",
   "execution_count": 3,
   "metadata": {
    "execution": {
     "iopub.execute_input": "2025-05-02T03:57:20.083823Z",
     "iopub.status.busy": "2025-05-02T03:57:20.083478Z",
     "iopub.status.idle": "2025-05-02T03:57:20.087365Z",
     "shell.execute_reply": "2025-05-02T03:57:20.086392Z",
     "shell.execute_reply.started": "2025-05-02T03:57:20.083799Z"
    }
   },
   "outputs": [],
   "source": [
    "\n",
    "data = np.loadtxt('test.txt', skiprows=1, dtype=int)\n",
    "plateid = data[:, 0]\n",
    "mjd = data[:, 1]\n",
    "fiberid = data[:, 2]\n"
   ]
  },
  {
   "cell_type": "code",
   "execution_count": 4,
   "metadata": {
    "execution": {
     "iopub.execute_input": "2025-05-02T03:57:20.088427Z",
     "iopub.status.busy": "2025-05-02T03:57:20.088189Z",
     "iopub.status.idle": "2025-05-02T03:57:24.827889Z",
     "shell.execute_reply": "2025-05-02T03:57:24.827500Z",
     "shell.execute_reply.started": "2025-05-02T03:57:20.088405Z"
    }
   },
   "outputs": [
    {
     "name": "stdout",
     "output_type": "stream",
     "text": [
      "[1] Starting download...\n",
      "[2] Starting download...\n",
      "[1] ✓ spec-2154-54539-0416.fits\n",
      "[3] Starting download...\n",
      "[2] ✓ spec-1678-53433-0236.fits\n",
      "[4] Starting download...\n",
      "[3] ✓ spec-0926-52413-0100.fits\n",
      "[5] Starting download...\n",
      "[4] ✓ spec-0541-51959-0178.fits\n",
      "[5] ✓ spec-0757-52238-0628.fits\n"
     ]
    }
   ],
   "source": [
    "output_directory = \"./downloaded_spectra\"\n",
    "os.makedirs(output_directory, exist_ok=True)\n",
    "\n",
    "#custom_agent = \"Mozilla/5.0 (X11; Linux x86_64) AppleWebKit/537.36 (KHTML, like Gecko) Chrome/135.0.0.0 Safari/537.36\"\n",
    "\n",
    "downloader = SDSSParallelDownloader(output_dir=output_directory, max_workers=2)\n",
    "downloader.download_all(plateid, mjd, fiberid, verbose=True)\n",
    "\n"
   ]
  },
  {
   "cell_type": "code",
   "execution_count": null,
   "metadata": {},
   "outputs": [],
   "source": []
  }
 ],
 "metadata": {
  "kernelspec": {
   "display_name": "base",
   "language": "python",
   "name": "python3"
  },
  "language_info": {
   "codemirror_mode": {
    "name": "ipython",
    "version": 3
   },
   "file_extension": ".py",
   "mimetype": "text/x-python",
   "name": "python",
   "nbconvert_exporter": "python",
   "pygments_lexer": "ipython3",
   "version": "3.12.9"
  }
 },
 "nbformat": 4,
 "nbformat_minor": 4
}
